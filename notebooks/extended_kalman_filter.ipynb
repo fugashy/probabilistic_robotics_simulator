{
 "cells": [
  {
   "cell_type": "markdown",
   "metadata": {},
   "source": [
    "# 拡張カルマンフィルタ\n",
    "\n",
    "ベイズベースの自己位置推定アルゴリズムのおさらい\n",
    "\n",
    "パーティクルフィルタも同様\n",
    "\n",
    "## 状態遷移について\n",
    "\n",
    "$$\n",
    "\\hat{b}_{t}({\\bf x}) = \\int_{{\\bf x}^{\\prime} \\in \\mathit X} p({\\bf x} \\mid {\\bf x}^{\\prime}, {\\bf \\nu}_{t}) b_{t-1}({\\bf x}^{\\prime}) d{\\bf x}^{\\prime}\n",
    "$$\n",
    "\n",
    "$p({\\bf x} \\mid {\\bf x}^{\\prime}, {\\bf \\nu}_{t})$は状態遷移モデル\n",
    "\n",
    "$b_{t-1}({\\bf x}^{\\prime})$はある姿勢${\\bf x}^{\\prime}$での遷移前の信念密度\n",
    "\n",
    "これを全姿勢について足し合わせるという意味\n",
    "\n",
    "これにより遷移後の信念密度が求まる\n",
    "\n",
    "## 観測の反映について\n",
    "\n",
    "ベイズがつかえる\n",
    "\n",
    "$$\n",
    "b_{t}({\\bf x}) = \\hat{b}_{t}({\\bf x} \\mid {\\bf z}_{t}) = \\frac{p({\\bf z}_{t} \\mid {\\bf x}) \\hat{b}_{t}({\\bf x})}{p({\\bf z}_{t})} = \\eta p({\\bf z}_{t} \\mid {\\bf x}) \\hat{b}_{t}({\\bf x})\n",
    "$$\n",
    "\n",
    "$p({\\bf z}_{t} \\mid {\\bf x})$は観測モデル\n",
    "\n",
    "センサ値が観測毎に独立なら\n",
    "\n",
    "$$\n",
    "b_{t}({\\bf x}) = \\eta \\hat{b}_{t}({\\bf x}) \\prod_{j=0}^{N_{m}-1}p_{j}({\\bf z}_{j,t} \\mid {\\bf x})\n",
    "$$\n",
    "\n",
    "となる"
   ]
  },
  {
   "cell_type": "code",
   "execution_count": 1,
   "metadata": {},
   "outputs": [],
   "source": [
    "import sys\n",
    "sys.path.append('../src')\n",
    "import importlib\n",
    "\n",
    "import worlds\n",
    "import maps\n",
    "import numpy as np\n",
    "import robots\n",
    "import sensors\n",
    "import agents\n",
    "import landmarks\n",
    "import estimators"
   ]
  },
  {
   "cell_type": "code",
   "execution_count": 2,
   "metadata": {},
   "outputs": [],
   "source": [
    "# 検証用の関数\n",
    "def trial():\n",
    "    time_interval = 0.1\n",
    "    world = worlds.World(30., time_interval, debuggable=True)\n",
    "    \n",
    "    m = maps.Map()\n",
    "    for ln in [(-4., 2.), (2., -3.), (3., 3.)]:\n",
    "        m.append_landmark(landmarks.Point2DLandmark(*ln))\n",
    "    world.append(m)\n",
    "    \n",
    "    initial_pose = np.array([0., 0., 0.]).T\n",
    "    estimator = estimators.ExtendedKalmanFilter(\n",
    "        m, initial_pose, distance_dev_rate=0.14, direction_dev=0.05)\n",
    "    \n",
    "    a = agents.EstimationAgent(\n",
    "        time_interval, 0.2, 10./180.*np.pi, estimator=estimator)\n",
    "    \n",
    "    r = robots.Robot(initial_pose, sensor=sensors.Camera(m), agent=a, color='red')\n",
    "    world.append(r)\n",
    "    \n",
    "    world.draw()"
   ]
  },
  {
   "cell_type": "code",
   "execution_count": 3,
   "metadata": {},
   "outputs": [
    {
     "data": {
      "image/png": "[encoded data removed]",
      "text/plain": [
       "<Figure size 576x576 with 1 Axes>"
      ]
     },
     "metadata": {
      "needs_background": "light"
     },
     "output_type": "display_data"
    }
   ],
   "source": [
    "trial()"
   ]
  }
 ],
 "metadata": {
  "kernelspec": {
   "display_name": "Python 3",
   "language": "python",
   "name": "python3"
  },
  "language_info": {
   "codemirror_mode": {
    "name": "ipython",
    "version": 3
   },
   "file_extension": ".py",
   "mimetype": "text/x-python",
   "name": "python",
   "nbconvert_exporter": "python",
   "pygments_lexer": "ipython3",
   "version": "3.7.4"
  }
 },
 "nbformat": 4,
 "nbformat_minor": 2
}
