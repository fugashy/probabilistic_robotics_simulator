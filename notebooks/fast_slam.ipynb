{
 "cells": [
  {
   "cell_type": "markdown",
   "metadata": {},
   "source": [
    "# FastSLAM"
   ]
  },
  {
   "cell_type": "code",
   "execution_count": 4,
   "metadata": {},
   "outputs": [],
   "source": [
    "import sys\n",
    "sys.path.append('../src')\n",
    "import importlib\n",
    "\n",
    "import worlds\n",
    "import maps\n",
    "import numpy as np\n",
    "import robots\n",
    "import sensors\n",
    "import agents\n",
    "import landmarks\n",
    "import estimators\n",
    "\n",
    "def reload():\n",
    "    importlib.reload(worlds)\n",
    "    importlib.reload(maps)\n",
    "    importlib.reload(robots)\n",
    "    importlib.reload(sensors)\n",
    "    importlib.reload(agents)\n",
    "    importlib.reload(estimators)\n",
    "    importlib.reload(landmarks)\n",
    "\n",
    "\n",
    "reload()"
   ]
  },
  {
   "cell_type": "code",
   "execution_count": 5,
   "metadata": {},
   "outputs": [],
   "source": [
    "reload()\n",
    "def trial(debuggable=False):\n",
    "    time_interval = 0.1\n",
    "    world = worlds.World(30., time_interval, debuggable=debuggable)\n",
    "    \n",
    "    m = maps.Map()\n",
    "    for ln in [(-4., 2.), (2., -3.), (3., 3.)]:\n",
    "        m.append_landmark(landmarks.Point2DLandmark(*ln))\n",
    "    world.append(m)\n",
    "    initial_pose = np.array([0., 0., 0.]).T\n",
    "    estimator = estimators.FastSlam(m, initial_pose, 100, len(m.landmarks))\n",
    "    a = agents.EstimationAgent(\n",
    "        time_interval, 0.2, 10./180.*np.pi, estimator=estimator)\n",
    "    r = robots.Robot(initial_pose, sensor=sensors.Camera(m), agent=a, color='red')\n",
    "    world.append(r)\n",
    "    \n",
    "    world.draw()"
   ]
  },
  {
   "cell_type": "code",
   "execution_count": 6,
   "metadata": {},
   "outputs": [
    {
     "ename": "TypeError",
     "evalue": "only integer scalar arrays can be converted to a scalar index",
     "output_type": "error",
     "traceback": [
      "\u001b[0;31m---------------------------------------------------------------------------\u001b[0m",
      "\u001b[0;31mTypeError\u001b[0m                                 Traceback (most recent call last)",
      "\u001b[0;32m<ipython-input-6-98c39bc0c7e4>\u001b[0m in \u001b[0;36m<module>\u001b[0;34m\u001b[0m\n\u001b[0;32m----> 1\u001b[0;31m \u001b[0mtrial\u001b[0m\u001b[0;34m(\u001b[0m\u001b[0;34m)\u001b[0m\u001b[0;34m\u001b[0m\u001b[0;34m\u001b[0m\u001b[0m\n\u001b[0m",
      "\u001b[0;32m<ipython-input-5-c5a528dd00f5>\u001b[0m in \u001b[0;36mtrial\u001b[0;34m(debuggable)\u001b[0m\n\u001b[1;32m      9\u001b[0m     \u001b[0mworld\u001b[0m\u001b[0;34m.\u001b[0m\u001b[0mappend\u001b[0m\u001b[0;34m(\u001b[0m\u001b[0mm\u001b[0m\u001b[0;34m)\u001b[0m\u001b[0;34m\u001b[0m\u001b[0;34m\u001b[0m\u001b[0m\n\u001b[1;32m     10\u001b[0m     \u001b[0minitial_pose\u001b[0m \u001b[0;34m=\u001b[0m \u001b[0mnp\u001b[0m\u001b[0;34m.\u001b[0m\u001b[0marray\u001b[0m\u001b[0;34m(\u001b[0m\u001b[0;34m[\u001b[0m\u001b[0;36m0.\u001b[0m\u001b[0;34m,\u001b[0m \u001b[0;36m0.\u001b[0m\u001b[0;34m,\u001b[0m \u001b[0;36m0.\u001b[0m\u001b[0;34m]\u001b[0m\u001b[0;34m)\u001b[0m\u001b[0;34m.\u001b[0m\u001b[0mT\u001b[0m\u001b[0;34m\u001b[0m\u001b[0;34m\u001b[0m\u001b[0m\n\u001b[0;32m---> 11\u001b[0;31m     \u001b[0mestimator\u001b[0m \u001b[0;34m=\u001b[0m \u001b[0mestimators\u001b[0m\u001b[0;34m.\u001b[0m\u001b[0mFastSlam\u001b[0m\u001b[0;34m(\u001b[0m\u001b[0mm\u001b[0m\u001b[0;34m,\u001b[0m \u001b[0minitial_pose\u001b[0m\u001b[0;34m,\u001b[0m \u001b[0;36m100\u001b[0m\u001b[0;34m,\u001b[0m \u001b[0mlen\u001b[0m\u001b[0;34m(\u001b[0m\u001b[0mm\u001b[0m\u001b[0;34m.\u001b[0m\u001b[0mlandmarks\u001b[0m\u001b[0;34m)\u001b[0m\u001b[0;34m)\u001b[0m\u001b[0;34m\u001b[0m\u001b[0;34m\u001b[0m\u001b[0m\n\u001b[0m\u001b[1;32m     12\u001b[0m     a = agents.EstimationAgent(\n\u001b[1;32m     13\u001b[0m         time_interval, 0.2, 10./180.*np.pi, estimator=estimator)\n",
      "\u001b[0;32m~/work/repos/probabilistic_robotics_simulator/src/estimators.py\u001b[0m in \u001b[0;36m__init__\u001b[0;34m(self, init_pose, particle_num, landmark_num, motion_noise_stds, distance_dev_rate, direction_dev)\u001b[0m\n\u001b[1;32m    160\u001b[0m         super().__init__(\n\u001b[1;32m    161\u001b[0m             \u001b[0;32mNone\u001b[0m\u001b[0;34m,\u001b[0m \u001b[0minit_pose\u001b[0m\u001b[0;34m,\u001b[0m \u001b[0mparticle_num\u001b[0m\u001b[0;34m,\u001b[0m \u001b[0mmotion_noise_stds\u001b[0m\u001b[0;34m,\u001b[0m\u001b[0;34m\u001b[0m\u001b[0;34m\u001b[0m\u001b[0m\n\u001b[0;32m--> 162\u001b[0;31m             distance_dev_rate, direction_dev)\n\u001b[0m\u001b[1;32m    163\u001b[0m \u001b[0;34m\u001b[0m\u001b[0m\n\u001b[1;32m    164\u001b[0m         \u001b[0mself\u001b[0m\u001b[0;34m.\u001b[0m\u001b[0mparticles\u001b[0m \u001b[0;34m=\u001b[0m\u001b[0;31m \u001b[0m\u001b[0;31m\\\u001b[0m\u001b[0;34m\u001b[0m\u001b[0;34m\u001b[0m\u001b[0m\n",
      "\u001b[0;32m~/work/repos/probabilistic_robotics_simulator/src/estimators.py\u001b[0m in \u001b[0;36m__init__\u001b[0;34m(self, map_, init_pose, num, motion_noise_stds, distance_dev_rate, direction_dev)\u001b[0m\n\u001b[1;32m     46\u001b[0m             [\n\u001b[1;32m     47\u001b[0m                 \u001b[0mparticles\u001b[0m\u001b[0;34m.\u001b[0m\u001b[0mParticle\u001b[0m\u001b[0;34m(\u001b[0m\u001b[0minit_pose\u001b[0m\u001b[0;34m,\u001b[0m \u001b[0minitial_weight\u001b[0m\u001b[0;34m)\u001b[0m\u001b[0;34m\u001b[0m\u001b[0;34m\u001b[0m\u001b[0m\n\u001b[0;32m---> 48\u001b[0;31m                 \u001b[0;32mfor\u001b[0m \u001b[0mi\u001b[0m \u001b[0;32min\u001b[0m \u001b[0mrange\u001b[0m\u001b[0;34m(\u001b[0m\u001b[0mnum\u001b[0m\u001b[0;34m)\u001b[0m\u001b[0;34m\u001b[0m\u001b[0;34m\u001b[0m\u001b[0m\n\u001b[0m\u001b[1;32m     49\u001b[0m             ]\n\u001b[1;32m     50\u001b[0m \u001b[0;34m\u001b[0m\u001b[0m\n",
      "\u001b[0;31mTypeError\u001b[0m: only integer scalar arrays can be converted to a scalar index"
     ]
    }
   ],
   "source": [
    "trial()"
   ]
  },
  {
   "cell_type": "code",
   "execution_count": null,
   "metadata": {},
   "outputs": [],
   "source": []
  }
 ],
 "metadata": {
  "kernelspec": {
   "display_name": "Python 3",
   "language": "python",
   "name": "python3"
  },
  "language_info": {
   "codemirror_mode": {
    "name": "ipython",
    "version": 3
   },
   "file_extension": ".py",
   "mimetype": "text/x-python",
   "name": "python",
   "nbconvert_exporter": "python",
   "pygments_lexer": "ipython3",
   "version": "3.7.4"
  }
 },
 "nbformat": 4,
 "nbformat_minor": 2
}
