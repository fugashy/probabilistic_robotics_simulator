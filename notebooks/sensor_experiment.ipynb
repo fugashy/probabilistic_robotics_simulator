{
 "cells": [
  {
   "cell_type": "markdown",
   "metadata": {},
   "source": [
    "# Cameraクラスのばらつきを求める\n",
    "\n",
    "様々なノイズ要因が実装されているsensors.Camera\n",
    "パーティクルフィルタの尤度を求めるために，尤度関数パラメータであるばらつきを求める"
   ]
  },
  {
   "cell_type": "code",
   "execution_count": 1,
   "metadata": {},
   "outputs": [],
   "source": [
    "import sys\n",
    "sys.path.append('../src/')\n",
    "import importlib\n",
    "\n",
    "import worlds\n",
    "import maps\n",
    "import numpy as np\n",
    "import robots\n",
    "import sensors\n",
    "import agents\n",
    "import landmarks\n",
    "import estimators\n",
    "\n",
    "def reload():\n",
    "    importlib.reload(worlds)\n",
    "    importlib.reload(maps)\n",
    "    importlib.reload(robots)\n",
    "    importlib.reload(sensors)\n",
    "    importlib.reload(agents)\n",
    "    importlib.reload(estimators)\n",
    "\n",
    "\n",
    "reload()"
   ]
  },
  {
   "cell_type": "code",
   "execution_count": 3,
   "metadata": {},
   "outputs": [],
   "source": [
    "# 地図とランドマークを一つずつ用意\n",
    "m = maps.Map()\n",
    "m.append_landmark(landmarks.Point2DLandmark(1., 0.))\n",
    "\n",
    "distance = []\n",
    "direction = []\n",
    "\n",
    "# カメラで1000回観測し，その観測ベクトルを保持する\n",
    "for i in range(1000):\n",
    "    c = sensors.Camera(m)\n",
    "    d = c.data(np.array([0., 0., 0.]).T)\n",
    "    if len(d) > 0:\n",
    "        distance.append(d[0][0][0])\n",
    "        direction.append(d[0][0][1])"
   ]
  },
  {
   "cell_type": "code",
   "execution_count": 7,
   "metadata": {},
   "outputs": [
    {
     "name": "stdout",
     "output_type": "stream",
     "text": [
      "     distance  direction\n",
      "0    1.034564  -0.002605\n",
      "1    1.032614   0.026211\n",
      "2    0.935370  -0.049270\n",
      "3    1.237496   0.007511\n",
      "4    1.112560  -0.006332\n",
      "5    1.086509   0.069583\n",
      "6    0.976657   0.042916\n",
      "7    0.854139  -0.067319\n",
      "8    1.130063  -0.055106\n",
      "9    1.156282   0.045486\n",
      "10   1.023007  -0.021842\n",
      "11   1.104343  -0.081984\n",
      "12   0.794209  -0.047837\n",
      "13   0.984486   0.030516\n",
      "14   0.854257   0.041066\n",
      "15   1.239110   0.076176\n",
      "16   1.085417   0.010408\n",
      "17   1.141783  -0.004448\n",
      "18   0.715730  -0.014964\n",
      "19   0.968061  -0.043424\n",
      "20   1.047152  -0.092961\n",
      "21   1.133577   0.074654\n",
      "22   1.005173  -0.041512\n",
      "23   0.877341   0.031891\n",
      "24   0.914464   0.054891\n",
      "25   1.168154   0.056962\n",
      "26   0.999279   0.057499\n",
      "27   1.128522   0.045668\n",
      "28   0.927635   0.042537\n",
      "29   1.054303   0.030311\n",
      "..        ...        ...\n",
      "879  0.864991  -0.017554\n",
      "880  0.984835   0.067333\n",
      "881  1.031690  -0.056157\n",
      "882  1.338987   0.027111\n",
      "883  1.256106  -0.050723\n",
      "884  1.139881   0.028209\n",
      "885  1.088144   0.035354\n",
      "886  1.415324   0.024667\n",
      "887  0.997860  -0.078150\n",
      "888  0.874936   0.055286\n",
      "889  0.756995   0.073837\n",
      "890  1.041410   0.024521\n",
      "891  0.990489  -0.006130\n",
      "892  0.886710  -0.019442\n",
      "893  1.101359   0.008754\n",
      "894  1.104040   0.048699\n",
      "895  0.878464   0.057733\n",
      "896  1.184640  -0.030928\n",
      "897  1.137288   0.021974\n",
      "898  0.891411   0.062583\n",
      "899  0.892833  -0.001512\n",
      "900  0.867560   0.012013\n",
      "901  1.145350   0.062177\n",
      "902  1.050100  -0.065449\n",
      "903  1.197014   0.053739\n",
      "904  1.096868   0.042026\n",
      "905  0.893880  -0.049048\n",
      "906  0.969650   0.037319\n",
      "907  0.793696   0.026409\n",
      "908  1.008247   0.088209\n",
      "\n",
      "[909 rows x 2 columns]\n"
     ]
    }
   ],
   "source": [
    "import pandas as pd\n",
    "\n",
    "df = pd.DataFrame()\n",
    "df['distance'] = distance\n",
    "df['direction'] = direction\n",
    "print(df)"
   ]
  },
  {
   "cell_type": "code",
   "execution_count": 8,
   "metadata": {},
   "outputs": [
    {
     "data": {
      "text/plain": [
       "distance     0.138395\n",
       "direction    0.049099\n",
       "dtype: float64"
      ]
     },
     "execution_count": 8,
     "metadata": {},
     "output_type": "execute_result"
    }
   ],
   "source": [
    "df.std()"
   ]
  },
  {
   "cell_type": "markdown",
   "metadata": {},
   "source": [
    "ということで，\n",
    "\n",
    "$\\sigma_{\\it l} = 0.14$  \\[m/m\\]\n",
    "\n",
    "$\\sigma_{\\phi} = 0.05$  \\[rad\\]\n",
    "\n",
    "となる"
   ]
  }
 ],
 "metadata": {
  "kernelspec": {
   "display_name": "Python 3",
   "language": "python",
   "name": "python3"
  },
  "language_info": {
   "codemirror_mode": {
    "name": "ipython",
    "version": 3
   },
   "file_extension": ".py",
   "mimetype": "text/x-python",
   "name": "python",
   "nbconvert_exporter": "python",
   "pygments_lexer": "ipython3",
   "version": "3.7.4"
  }
 },
 "nbformat": 4,
 "nbformat_minor": 2
}
