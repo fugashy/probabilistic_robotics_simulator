{
 "cells": [
  {
   "cell_type": "markdown",
   "metadata": {},
   "source": [
    "# Cameraクラスのばらつきを求める\n",
    "\n",
    "様々なノイズ要因が実装されているsensors.Camera\n",
    "パーティクルフィルタの尤度を求めるために，尤度関数パラメータであるばらつきを求める"
   ]
  },
  {
   "cell_type": "code",
   "execution_count": 1,
   "metadata": {},
   "outputs": [],
   "source": [
    "import sys\n",
    "sys.path.append('../src/')\n",
    "import importlib\n",
    "\n",
    "import maps\n",
    "import landmarks\n",
    "import sensors\n",
    "\n",
    "import numpy as np\n",
    "\n",
    "def reload():\n",
    "    importlib.reload(maps)\n",
    "    importlib.reload(landmarks)\n",
    "    importlib.reload(sensors)\n",
    "\n",
    "\n",
    "reload()"
   ]
  },
  {
   "cell_type": "code",
   "execution_count": 2,
   "metadata": {},
   "outputs": [],
   "source": [
    "# 地図とランドマークを一つずつ用意\n",
    "m = maps.Map()\n",
    "m.append_landmark(landmarks.Point2DLandmark(1., 0.))\n",
    "\n",
    "distance = []\n",
    "direction = []\n",
    "\n",
    "# カメラで1000回観測し，その観測ベクトルを保持する\n",
    "for i in range(1000):\n",
    "    c = sensors.Camera(m)\n",
    "    d = c.data(np.array([0., 0., 0.]).T)\n",
    "    if len(d) > 0:\n",
    "        distance.append(d[0][0][0])\n",
    "        direction.append(d[0][0][1])"
   ]
  },
  {
   "cell_type": "code",
   "execution_count": 3,
   "metadata": {},
   "outputs": [
    {
     "name": "stdout",
     "output_type": "stream",
     "text": [
      "     distance  direction\n",
      "0    0.966001   0.007512\n",
      "1    0.969933  -0.064338\n",
      "2    1.017017  -0.041167\n",
      "3    0.906081  -0.003613\n",
      "4    0.964038  -0.006118\n",
      "..        ...        ...\n",
      "901  0.951714  -0.000748\n",
      "902  0.935242  -0.019810\n",
      "903  0.987412  -0.000650\n",
      "904  0.986267   0.002964\n",
      "905  0.863022   0.045736\n",
      "\n",
      "[906 rows x 2 columns]\n"
     ]
    }
   ],
   "source": [
    "import pandas as pd\n",
    "\n",
    "df = pd.DataFrame()\n",
    "df['distance'] = distance\n",
    "df['direction'] = direction\n",
    "print(df)"
   ]
  },
  {
   "cell_type": "code",
   "execution_count": 4,
   "metadata": {},
   "outputs": [
    {
     "data": {
      "text/plain": [
       "distance     0.072390\n",
       "direction    0.026013\n",
       "dtype: float64"
      ]
     },
     "execution_count": 4,
     "metadata": {},
     "output_type": "execute_result"
    }
   ],
   "source": [
    "df.std()"
   ]
  },
  {
   "cell_type": "markdown",
   "metadata": {},
   "source": [
    "ということで，\n",
    "\n",
    "$\\sigma_{\\it l} = 0.72$  \\[m/m\\]\n",
    "\n",
    "$\\sigma_{\\phi} = 0.026$  \\[rad\\]\n",
    "\n",
    "となる"
   ]
  }
 ],
 "metadata": {
  "kernelspec": {
   "display_name": "Python 3",
   "language": "python",
   "name": "python3"
  },
  "language_info": {
   "codemirror_mode": {
    "name": "ipython",
    "version": 3
   },
   "file_extension": ".py",
   "mimetype": "text/x-python",
   "name": "python",
   "nbconvert_exporter": "python",
   "pygments_lexer": "ipython3",
   "version": "3.7.4"
  }
 },
 "nbformat": 4,
 "nbformat_minor": 2
}
